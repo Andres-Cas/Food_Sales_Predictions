{
  "nbformat": 4,
  "nbformat_minor": 0,
  "metadata": {
    "colab": {
      "name": "Sales_Prediction.ipynb",
      "provenance": [],
      "collapsed_sections": [],
      "mount_file_id": "1oIgZBUy-fTuJNtkeRDRDcDcvnFx9cYfT",
      "authorship_tag": "ABX9TyMa+QHWFdFdlFS8lu3WGlM4",
      "include_colab_link": true
    },
    "kernelspec": {
      "name": "python3",
      "display_name": "Python 3"
    },
    "language_info": {
      "name": "python"
    }
  },
  "cells": [
    {
      "cell_type": "markdown",
      "metadata": {
        "id": "view-in-github",
        "colab_type": "text"
      },
      "source": [
        "<a href=\"https://colab.research.google.com/github/Andres-Cas/Food_Sales_Predictions/blob/main/Sales_Prediction.ipynb\" target=\"_parent\"><img src=\"https://colab.research.google.com/assets/colab-badge.svg\" alt=\"Open In Colab\"/></a>"
      ]
    },
    {
      "cell_type": "markdown",
      "metadata": {
        "id": "vJ3rzeYpOMia"
      },
      "source": [
        "# Data Cleaning"
      ]
    },
    {
      "cell_type": "code",
      "metadata": {
        "id": "qKnI0e_9OKCF"
      },
      "source": [
        "import pandas as pd"
      ],
      "execution_count": 1,
      "outputs": []
    },
    {
      "cell_type": "code",
      "metadata": {
        "colab": {
          "base_uri": "https://localhost:8080/",
          "height": 309
        },
        "id": "LqNTSpcOOW8z",
        "outputId": "c952023b-52bd-40d2-f12a-55d3fc5dc5d1"
      },
      "source": [
        "sales_df = pd.read_csv('/content/drive/MyDrive/Coding Dojo/Project1_Food Sales Prediction/sales_predictions.csv')\n",
        "sales_df.head()"
      ],
      "execution_count": 15,
      "outputs": [
        {
          "output_type": "execute_result",
          "data": {
            "text/html": [
              "<div>\n",
              "<style scoped>\n",
              "    .dataframe tbody tr th:only-of-type {\n",
              "        vertical-align: middle;\n",
              "    }\n",
              "\n",
              "    .dataframe tbody tr th {\n",
              "        vertical-align: top;\n",
              "    }\n",
              "\n",
              "    .dataframe thead th {\n",
              "        text-align: right;\n",
              "    }\n",
              "</style>\n",
              "<table border=\"1\" class=\"dataframe\">\n",
              "  <thead>\n",
              "    <tr style=\"text-align: right;\">\n",
              "      <th></th>\n",
              "      <th>Item_Identifier</th>\n",
              "      <th>Item_Weight</th>\n",
              "      <th>Item_Fat_Content</th>\n",
              "      <th>Item_Visibility</th>\n",
              "      <th>Item_Type</th>\n",
              "      <th>Item_MRP</th>\n",
              "      <th>Outlet_Identifier</th>\n",
              "      <th>Outlet_Establishment_Year</th>\n",
              "      <th>Outlet_Size</th>\n",
              "      <th>Outlet_Location_Type</th>\n",
              "      <th>Outlet_Type</th>\n",
              "      <th>Item_Outlet_Sales</th>\n",
              "    </tr>\n",
              "  </thead>\n",
              "  <tbody>\n",
              "    <tr>\n",
              "      <th>0</th>\n",
              "      <td>FDA15</td>\n",
              "      <td>9.30</td>\n",
              "      <td>Low Fat</td>\n",
              "      <td>0.016047</td>\n",
              "      <td>Dairy</td>\n",
              "      <td>249.8092</td>\n",
              "      <td>OUT049</td>\n",
              "      <td>1999</td>\n",
              "      <td>Medium</td>\n",
              "      <td>Tier 1</td>\n",
              "      <td>Supermarket Type1</td>\n",
              "      <td>3735.1380</td>\n",
              "    </tr>\n",
              "    <tr>\n",
              "      <th>1</th>\n",
              "      <td>DRC01</td>\n",
              "      <td>5.92</td>\n",
              "      <td>Regular</td>\n",
              "      <td>0.019278</td>\n",
              "      <td>Soft Drinks</td>\n",
              "      <td>48.2692</td>\n",
              "      <td>OUT018</td>\n",
              "      <td>2009</td>\n",
              "      <td>Medium</td>\n",
              "      <td>Tier 3</td>\n",
              "      <td>Supermarket Type2</td>\n",
              "      <td>443.4228</td>\n",
              "    </tr>\n",
              "    <tr>\n",
              "      <th>2</th>\n",
              "      <td>FDN15</td>\n",
              "      <td>17.50</td>\n",
              "      <td>Low Fat</td>\n",
              "      <td>0.016760</td>\n",
              "      <td>Meat</td>\n",
              "      <td>141.6180</td>\n",
              "      <td>OUT049</td>\n",
              "      <td>1999</td>\n",
              "      <td>Medium</td>\n",
              "      <td>Tier 1</td>\n",
              "      <td>Supermarket Type1</td>\n",
              "      <td>2097.2700</td>\n",
              "    </tr>\n",
              "    <tr>\n",
              "      <th>3</th>\n",
              "      <td>FDX07</td>\n",
              "      <td>19.20</td>\n",
              "      <td>Regular</td>\n",
              "      <td>0.000000</td>\n",
              "      <td>Fruits and Vegetables</td>\n",
              "      <td>182.0950</td>\n",
              "      <td>OUT010</td>\n",
              "      <td>1998</td>\n",
              "      <td>NaN</td>\n",
              "      <td>Tier 3</td>\n",
              "      <td>Grocery Store</td>\n",
              "      <td>732.3800</td>\n",
              "    </tr>\n",
              "    <tr>\n",
              "      <th>4</th>\n",
              "      <td>NCD19</td>\n",
              "      <td>8.93</td>\n",
              "      <td>Low Fat</td>\n",
              "      <td>0.000000</td>\n",
              "      <td>Household</td>\n",
              "      <td>53.8614</td>\n",
              "      <td>OUT013</td>\n",
              "      <td>1987</td>\n",
              "      <td>High</td>\n",
              "      <td>Tier 3</td>\n",
              "      <td>Supermarket Type1</td>\n",
              "      <td>994.7052</td>\n",
              "    </tr>\n",
              "  </tbody>\n",
              "</table>\n",
              "</div>"
            ],
            "text/plain": [
              "  Item_Identifier  Item_Weight  ...        Outlet_Type  Item_Outlet_Sales\n",
              "0           FDA15         9.30  ...  Supermarket Type1          3735.1380\n",
              "1           DRC01         5.92  ...  Supermarket Type2           443.4228\n",
              "2           FDN15        17.50  ...  Supermarket Type1          2097.2700\n",
              "3           FDX07        19.20  ...      Grocery Store           732.3800\n",
              "4           NCD19         8.93  ...  Supermarket Type1           994.7052\n",
              "\n",
              "[5 rows x 12 columns]"
            ]
          },
          "metadata": {
            "tags": []
          },
          "execution_count": 15
        }
      ]
    },
    {
      "cell_type": "code",
      "metadata": {
        "colab": {
          "base_uri": "https://localhost:8080/"
        },
        "id": "Ch4Te4sdO0Zw",
        "outputId": "42ec1b96-0722-4b21-f109-3c768ce10753"
      },
      "source": [
        "sales_df.info()"
      ],
      "execution_count": 16,
      "outputs": [
        {
          "output_type": "stream",
          "text": [
            "<class 'pandas.core.frame.DataFrame'>\n",
            "RangeIndex: 8523 entries, 0 to 8522\n",
            "Data columns (total 12 columns):\n",
            " #   Column                     Non-Null Count  Dtype  \n",
            "---  ------                     --------------  -----  \n",
            " 0   Item_Identifier            8523 non-null   object \n",
            " 1   Item_Weight                7060 non-null   float64\n",
            " 2   Item_Fat_Content           8523 non-null   object \n",
            " 3   Item_Visibility            8523 non-null   float64\n",
            " 4   Item_Type                  8523 non-null   object \n",
            " 5   Item_MRP                   8523 non-null   float64\n",
            " 6   Outlet_Identifier          8523 non-null   object \n",
            " 7   Outlet_Establishment_Year  8523 non-null   int64  \n",
            " 8   Outlet_Size                6113 non-null   object \n",
            " 9   Outlet_Location_Type       8523 non-null   object \n",
            " 10  Outlet_Type                8523 non-null   object \n",
            " 11  Item_Outlet_Sales          8523 non-null   float64\n",
            "dtypes: float64(4), int64(1), object(7)\n",
            "memory usage: 799.2+ KB\n"
          ],
          "name": "stdout"
        }
      ]
    },
    {
      "cell_type": "code",
      "metadata": {
        "colab": {
          "base_uri": "https://localhost:8080/"
        },
        "id": "lNBZQAuTRJlN",
        "outputId": "85b47857-24c2-410e-acde-91c5e9b60ac8"
      },
      "source": [
        "sales_df['Item_Weight'].fillna(0.0)"
      ],
      "execution_count": 17,
      "outputs": [
        {
          "output_type": "execute_result",
          "data": {
            "text/plain": [
              "0        9.300\n",
              "1        5.920\n",
              "2       17.500\n",
              "3       19.200\n",
              "4        8.930\n",
              "         ...  \n",
              "8518     6.865\n",
              "8519     8.380\n",
              "8520    10.600\n",
              "8521     7.210\n",
              "8522    14.800\n",
              "Name: Item_Weight, Length: 8523, dtype: float64"
            ]
          },
          "metadata": {
            "tags": []
          },
          "execution_count": 17
        }
      ]
    },
    {
      "cell_type": "code",
      "metadata": {
        "colab": {
          "base_uri": "https://localhost:8080/"
        },
        "id": "gHwo9gwcWiUB",
        "outputId": "3804e426-7751-4700-b6dd-05e095863384"
      },
      "source": [
        "sales_df.info()"
      ],
      "execution_count": 18,
      "outputs": [
        {
          "output_type": "stream",
          "text": [
            "<class 'pandas.core.frame.DataFrame'>\n",
            "RangeIndex: 8523 entries, 0 to 8522\n",
            "Data columns (total 12 columns):\n",
            " #   Column                     Non-Null Count  Dtype  \n",
            "---  ------                     --------------  -----  \n",
            " 0   Item_Identifier            8523 non-null   object \n",
            " 1   Item_Weight                7060 non-null   float64\n",
            " 2   Item_Fat_Content           8523 non-null   object \n",
            " 3   Item_Visibility            8523 non-null   float64\n",
            " 4   Item_Type                  8523 non-null   object \n",
            " 5   Item_MRP                   8523 non-null   float64\n",
            " 6   Outlet_Identifier          8523 non-null   object \n",
            " 7   Outlet_Establishment_Year  8523 non-null   int64  \n",
            " 8   Outlet_Size                6113 non-null   object \n",
            " 9   Outlet_Location_Type       8523 non-null   object \n",
            " 10  Outlet_Type                8523 non-null   object \n",
            " 11  Item_Outlet_Sales          8523 non-null   float64\n",
            "dtypes: float64(4), int64(1), object(7)\n",
            "memory usage: 799.2+ KB\n"
          ],
          "name": "stdout"
        }
      ]
    },
    {
      "cell_type": "code",
      "metadata": {
        "colab": {
          "base_uri": "https://localhost:8080/"
        },
        "id": "9o4fYORxZZIe",
        "outputId": "244ef1f7-9e42-4313-973a-0a9f8bd6c257"
      },
      "source": [
        "sales_df['Outlet_Size'].dropna()"
      ],
      "execution_count": 19,
      "outputs": [
        {
          "output_type": "execute_result",
          "data": {
            "text/plain": [
              "0       Medium\n",
              "1       Medium\n",
              "2       Medium\n",
              "4         High\n",
              "5       Medium\n",
              "         ...  \n",
              "8517     Small\n",
              "8518      High\n",
              "8520     Small\n",
              "8521    Medium\n",
              "8522     Small\n",
              "Name: Outlet_Size, Length: 6113, dtype: object"
            ]
          },
          "metadata": {
            "tags": []
          },
          "execution_count": 19
        }
      ]
    },
    {
      "cell_type": "code",
      "metadata": {
        "colab": {
          "base_uri": "https://localhost:8080/"
        },
        "id": "qdPQjrZfgFr8",
        "outputId": "db4c8eac-dce2-49f8-b8b0-5a580a2c8c93"
      },
      "source": [
        "item_list = sales_df['Item_Type']\n",
        "item_list.value_counts(sort=True)"
      ],
      "execution_count": 32,
      "outputs": [
        {
          "output_type": "execute_result",
          "data": {
            "text/plain": [
              "Fruits and Vegetables    1232\n",
              "Snack Foods              1200\n",
              "Household                 910\n",
              "Frozen Foods              856\n",
              "Dairy                     682\n",
              "Canned                    649\n",
              "Baking Goods              648\n",
              "Health and Hygiene        520\n",
              "Soft Drinks               445\n",
              "Meat                      425\n",
              "Breads                    251\n",
              "Hard Drinks               214\n",
              "Others                    169\n",
              "Starchy Foods             148\n",
              "Breakfast                 110\n",
              "Seafood                    64\n",
              "Name: Item_Type, dtype: int64"
            ]
          },
          "metadata": {
            "tags": []
          },
          "execution_count": 32
        }
      ]
    },
    {
      "cell_type": "code",
      "metadata": {
        "id": "2Q2S51cMcFAf",
        "colab": {
          "base_uri": "https://localhost:8080/"
        },
        "outputId": "9329d65b-5f68-4557-864a-1c597291afbe"
      },
      "source": [
        "fat_content = sales_df['Item_Fat_Content']\n",
        "fat_content.value_counts(sort= True)"
      ],
      "execution_count": 20,
      "outputs": [
        {
          "output_type": "execute_result",
          "data": {
            "text/plain": [
              "Low Fat    5089\n",
              "Regular    2889\n",
              "LF          316\n",
              "reg         117\n",
              "low fat     112\n",
              "Name: Item_Fat_Content, dtype: int64"
            ]
          },
          "metadata": {
            "tags": []
          },
          "execution_count": 20
        }
      ]
    },
    {
      "cell_type": "code",
      "metadata": {
        "colab": {
          "base_uri": "https://localhost:8080/"
        },
        "id": "Pt-_J4F_A6uS",
        "outputId": "383ac7a5-4528-4fb2-c63d-9250e1d5774d"
      },
      "source": [
        "sales_df['Item_Fat_Content'] = sales_df['Item_Fat_Content'].replace(['LF'], ['Low Fat'])\n",
        "fat_content.value_counts(sort=True)"
      ],
      "execution_count": 21,
      "outputs": [
        {
          "output_type": "execute_result",
          "data": {
            "text/plain": [
              "Low Fat    5405\n",
              "Regular    2889\n",
              "reg         117\n",
              "low fat     112\n",
              "Name: Item_Fat_Content, dtype: int64"
            ]
          },
          "metadata": {
            "tags": []
          },
          "execution_count": 21
        }
      ]
    },
    {
      "cell_type": "code",
      "metadata": {
        "colab": {
          "base_uri": "https://localhost:8080/"
        },
        "id": "Bnf19dk-GIqb",
        "outputId": "d9093fcb-8f5d-4472-cc0a-26168244b6d8"
      },
      "source": [
        "sales_df['Item_Fat_Content'] = sales_df['Item_Fat_Content'].replace(['reg'], ['Regular'])\n",
        "sales_df['Item_Fat_Content'] = sales_df['Item_Fat_Content'].replace(['low fat'], ['Low Fat'])\n",
        "fat_content.value_counts(sort=True)"
      ],
      "execution_count": 22,
      "outputs": [
        {
          "output_type": "execute_result",
          "data": {
            "text/plain": [
              "Low Fat    5517\n",
              "Regular    3006\n",
              "Name: Item_Fat_Content, dtype: int64"
            ]
          },
          "metadata": {
            "tags": []
          },
          "execution_count": 22
        }
      ]
    },
    {
      "cell_type": "code",
      "metadata": {
        "colab": {
          "base_uri": "https://localhost:8080/"
        },
        "id": "oGRbhBEXseq_",
        "outputId": "f2d37da1-ddfb-47f0-f3bf-6bf1433e7483"
      },
      "source": [
        "top10sales = sales_df.groupby(['Item_Type'])['Item_Outlet_Sales'].mean().sort_values(ascending = False).head(10)\n",
        "top10sales"
      ],
      "execution_count": 23,
      "outputs": [
        {
          "output_type": "execute_result",
          "data": {
            "text/plain": [
              "Item_Type\n",
              "Starchy Foods            2374.332773\n",
              "Seafood                  2326.065928\n",
              "Fruits and Vegetables    2289.009592\n",
              "Snack Foods              2277.321739\n",
              "Household                2258.784300\n",
              "Dairy                    2232.542597\n",
              "Canned                   2225.194904\n",
              "Breads                   2204.132226\n",
              "Meat                     2158.977911\n",
              "Hard Drinks              2139.221622\n",
              "Name: Item_Outlet_Sales, dtype: float64"
            ]
          },
          "metadata": {
            "tags": []
          },
          "execution_count": 23
        }
      ]
    },
    {
      "cell_type": "code",
      "metadata": {
        "colab": {
          "base_uri": "https://localhost:8080/"
        },
        "id": "OxAnmSds-JeJ",
        "outputId": "ffedba7b-2210-4e11-ac7f-6ad4694adecc"
      },
      "source": [
        "top10visable = sales_df.groupby(['Item_Type'])['Item_Visibility'].mean().sort_values(ascending = False).head(10)\n",
        "top10visable"
      ],
      "execution_count": 73,
      "outputs": [
        {
          "output_type": "execute_result",
          "data": {
            "text/plain": [
              "Item_Type\n",
              "Breakfast                0.085723\n",
              "Seafood                  0.074976\n",
              "Dairy                    0.072427\n",
              "Baking Goods             0.069169\n",
              "Fruits and Vegetables    0.068513\n",
              "Canned                   0.068129\n",
              "Starchy Foods            0.067564\n",
              "Snack Foods              0.066850\n",
              "Breads                   0.066255\n",
              "Frozen Foods             0.065645\n",
              "Name: Item_Visibility, dtype: float64"
            ]
          },
          "metadata": {
            "tags": []
          },
          "execution_count": 73
        }
      ]
    },
    {
      "cell_type": "code",
      "metadata": {
        "colab": {
          "base_uri": "https://localhost:8080/",
          "height": 450
        },
        "id": "klRWJ4uK692n",
        "outputId": "6a2f8c5a-2e57-417e-b351-650f03aafb7e"
      },
      "source": [
        "salesBYoutlet = sales_df.groupby(['Outlet_Identifier', 'Item_Type'])[['Item_Outlet_Sales']].sum()\n",
        "salesBYoutlet"
      ],
      "execution_count": 24,
      "outputs": [
        {
          "output_type": "execute_result",
          "data": {
            "text/html": [
              "<div>\n",
              "<style scoped>\n",
              "    .dataframe tbody tr th:only-of-type {\n",
              "        vertical-align: middle;\n",
              "    }\n",
              "\n",
              "    .dataframe tbody tr th {\n",
              "        vertical-align: top;\n",
              "    }\n",
              "\n",
              "    .dataframe thead th {\n",
              "        text-align: right;\n",
              "    }\n",
              "</style>\n",
              "<table border=\"1\" class=\"dataframe\">\n",
              "  <thead>\n",
              "    <tr style=\"text-align: right;\">\n",
              "      <th></th>\n",
              "      <th></th>\n",
              "      <th>Item_Outlet_Sales</th>\n",
              "    </tr>\n",
              "    <tr>\n",
              "      <th>Outlet_Identifier</th>\n",
              "      <th>Item_Type</th>\n",
              "      <th></th>\n",
              "    </tr>\n",
              "  </thead>\n",
              "  <tbody>\n",
              "    <tr>\n",
              "      <th rowspan=\"5\" valign=\"top\">OUT010</th>\n",
              "      <th>Baking Goods</th>\n",
              "      <td>10693.4138</td>\n",
              "    </tr>\n",
              "    <tr>\n",
              "      <th>Breads</th>\n",
              "      <td>7657.3658</td>\n",
              "    </tr>\n",
              "    <tr>\n",
              "      <th>Breakfast</th>\n",
              "      <td>4081.3540</td>\n",
              "    </tr>\n",
              "    <tr>\n",
              "      <th>Canned</th>\n",
              "      <td>9019.5926</td>\n",
              "    </tr>\n",
              "    <tr>\n",
              "      <th>Dairy</th>\n",
              "      <td>15307.4078</td>\n",
              "    </tr>\n",
              "    <tr>\n",
              "      <th>...</th>\n",
              "      <th>...</th>\n",
              "      <td>...</td>\n",
              "    </tr>\n",
              "    <tr>\n",
              "      <th rowspan=\"5\" valign=\"top\">OUT049</th>\n",
              "      <th>Others</th>\n",
              "      <td>47772.4816</td>\n",
              "    </tr>\n",
              "    <tr>\n",
              "      <th>Seafood</th>\n",
              "      <td>11827.2712</td>\n",
              "    </tr>\n",
              "    <tr>\n",
              "      <th>Snack Foods</th>\n",
              "      <td>350244.0900</td>\n",
              "    </tr>\n",
              "    <tr>\n",
              "      <th>Soft Drinks</th>\n",
              "      <td>97585.6402</td>\n",
              "    </tr>\n",
              "    <tr>\n",
              "      <th>Starchy Foods</th>\n",
              "      <td>42019.9696</td>\n",
              "    </tr>\n",
              "  </tbody>\n",
              "</table>\n",
              "<p>160 rows × 1 columns</p>\n",
              "</div>"
            ],
            "text/plain": [
              "                                 Item_Outlet_Sales\n",
              "Outlet_Identifier Item_Type                       \n",
              "OUT010            Baking Goods          10693.4138\n",
              "                  Breads                 7657.3658\n",
              "                  Breakfast              4081.3540\n",
              "                  Canned                 9019.5926\n",
              "                  Dairy                 15307.4078\n",
              "...                                            ...\n",
              "OUT049            Others                47772.4816\n",
              "                  Seafood               11827.2712\n",
              "                  Snack Foods          350244.0900\n",
              "                  Soft Drinks           97585.6402\n",
              "                  Starchy Foods         42019.9696\n",
              "\n",
              "[160 rows x 1 columns]"
            ]
          },
          "metadata": {
            "tags": []
          },
          "execution_count": 24
        }
      ]
    },
    {
      "cell_type": "code",
      "metadata": {
        "colab": {
          "base_uri": "https://localhost:8080/"
        },
        "id": "m170yI9rYfkV",
        "outputId": "5ad11757-1c5a-47ed-a3ef-cd67f5ab115c"
      },
      "source": [
        "numberUniqueItem = sales_df.groupby(['Item_Type'])['Item_MRP'].nunique()\n",
        "numberUniqueItem"
      ],
      "execution_count": 37,
      "outputs": [
        {
          "output_type": "execute_result",
          "data": {
            "text/plain": [
              "Item_Type\n",
              "Baking Goods              602\n",
              "Breads                    226\n",
              "Breakfast                 104\n",
              "Canned                    598\n",
              "Dairy                     625\n",
              "Frozen Foods              780\n",
              "Fruits and Vegetables    1110\n",
              "Hard Drinks               206\n",
              "Health and Hygiene        475\n",
              "Household                 846\n",
              "Meat                      377\n",
              "Others                    160\n",
              "Seafood                    61\n",
              "Snack Foods              1079\n",
              "Soft Drinks               418\n",
              "Starchy Foods             141\n",
              "Name: Item_MRP, dtype: int64"
            ]
          },
          "metadata": {
            "tags": []
          },
          "execution_count": 37
        }
      ]
    },
    {
      "cell_type": "code",
      "metadata": {
        "colab": {
          "base_uri": "https://localhost:8080/"
        },
        "id": "ntt6dC8GBkrH",
        "outputId": "097b54d5-9ee1-4767-bb86-0c9a7eb386ee"
      },
      "source": [
        "stores = sales_df['Outlet_Identifier'].value_counts()\n",
        "stores"
      ],
      "execution_count": 66,
      "outputs": [
        {
          "output_type": "execute_result",
          "data": {
            "text/plain": [
              "OUT027    935\n",
              "OUT013    932\n",
              "OUT046    930\n",
              "OUT035    930\n",
              "OUT049    930\n",
              "OUT045    929\n",
              "OUT018    928\n",
              "OUT017    926\n",
              "OUT010    555\n",
              "OUT019    528\n",
              "Name: Outlet_Identifier, dtype: int64"
            ]
          },
          "metadata": {
            "tags": []
          },
          "execution_count": 66
        }
      ]
    },
    {
      "cell_type": "markdown",
      "metadata": {
        "id": "q1T6ANJkabhD"
      },
      "source": [
        "# Visuals"
      ]
    },
    {
      "cell_type": "code",
      "metadata": {
        "id": "EHJCrgBViNMV"
      },
      "source": [
        "visibility = sales_df['Item_Visibility']\n",
        "items = sales_df['Item_Type']\n",
        "outlets = sales_df['Outlet_Identifier']\n",
        "location_type = sales_df['Outlet_Location_Type']\n",
        "outlet_type = sales_df['Outlet_Type']\n",
        "outlet_sales = sales_df['Item_Outlet_Sales']"
      ],
      "execution_count": 63,
      "outputs": []
    },
    {
      "cell_type": "code",
      "metadata": {
        "id": "yqwoako7bH0t"
      },
      "source": [
        "import matplotlib.pyplot as plt\n",
        "import seaborn as sns\n",
        "import pandas as pd\n",
        "import numpy as np"
      ],
      "execution_count": 45,
      "outputs": []
    },
    {
      "cell_type": "code",
      "metadata": {
        "colab": {
          "base_uri": "https://localhost:8080/",
          "height": 401
        },
        "id": "2tob1O_qBmru",
        "outputId": "bbc7e118-6a6d-4e4c-a931-b9f3f9fa3df5"
      },
      "source": [
        "plt.bar(top10visable.index, top10visable.values, width=.5, align='center', edgecolor = 'black')\n",
        "plt.ylabel('Items', fontsize = 14)\n",
        "plt.xlabel('Visibility of Item', fontsize = 14)\n",
        "plt.title('Top 10 Visibale Items Sold', fontsize = 17)\n",
        "plt.xticks(rotation = 90);"
      ],
      "execution_count": 89,
      "outputs": [
        {
          "output_type": "display_data",
          "data": {
            "image/png": "[encoded data removed]",
            "text/plain": [
              "<Figure size 432x288 with 1 Axes>"
            ]
          },
          "metadata": {
            "tags": [],
            "needs_background": "light"
          }
        }
      ]
    },
    {
      "cell_type": "code",
      "metadata": {
        "colab": {
          "base_uri": "https://localhost:8080/",
          "height": 265
        },
        "id": "YQ0rvl2A03ft",
        "outputId": "f3774d6d-ae88-42d1-f561-6b4ddecfbbc6"
      },
      "source": [
        "plt.bar(top10sales.index, top10sales.values);"
      ],
      "execution_count": 41,
      "outputs": [
        {
          "output_type": "display_data",
          "data": {
            "image/png": "[encoded data removed]",
            "text/plain": [
              "<Figure size 432x288 with 1 Axes>"
            ]
          },
          "metadata": {
            "tags": [],
            "needs_background": "light"
          }
        }
      ]
    },
    {
      "cell_type": "code",
      "metadata": {
        "colab": {
          "base_uri": "https://localhost:8080/",
          "height": 397
        },
        "id": "VpAix80I_06M",
        "outputId": "4a6f8200-bf51-4a18-95f8-e0f9bb443bb4"
      },
      "source": [
        "plt.bar(top10sales.index, top10sales.values)\n",
        "plt.xticks(rotation = 90)\n",
        "plt.title('Top 10 Items Sold', fontsize = 14)\n",
        "plt.xlabel('Items', fontsize = 12)\n",
        "plt.ylabel('Sold', fontsize = 12);"
      ],
      "execution_count": 75,
      "outputs": [
        {
          "output_type": "display_data",
          "data": {
            "image/png": "[encoded data removed]",
            "text/plain": [
              "<Figure size 432x288 with 1 Axes>"
            ]
          },
          "metadata": {
            "tags": [],
            "needs_background": "light"
          }
        }
      ]
    },
    {
      "cell_type": "code",
      "metadata": {
        "colab": {
          "base_uri": "https://localhost:8080/",
          "height": 380
        },
        "id": "hwdzlkOOAJSr",
        "outputId": "4a58c054-7484-44e3-8e2f-351c75d5d482"
      },
      "source": [
        "sales_df['Item_Type'].hist(bins = 16, edgecolor='black')\n",
        "plt.xticks(rotation = 90)\n",
        "plt.title('Frequency of Items Sold', fontsize = 14);"
      ],
      "execution_count": 97,
      "outputs": [
        {
          "output_type": "display_data",
          "data": {
            "image/png": "[encoded data removed]",
            "text/plain": [
              "<Figure size 432x288 with 1 Axes>"
            ]
          },
          "metadata": {
            "tags": [],
            "needs_background": "light"
          }
        }
      ]
    },
    {
      "cell_type": "code",
      "metadata": {
        "colab": {
          "base_uri": "https://localhost:8080/",
          "height": 282
        },
        "id": "M2qkJDxjDGL2",
        "outputId": "60c10893-aa28-40c2-9a0a-96dedaa74967"
      },
      "source": [
        "sales_df['Outlet_Type'].hist(bins=4, edgecolor='black')\n",
        "plt.title('Frequency of Store Type', fontsize = 14);"
      ],
      "execution_count": 112,
      "outputs": [
        {
          "output_type": "display_data",
          "data": {
            "image/png": "[encoded data removed]",
            "text/plain": [
              "<Figure size 432x288 with 1 Axes>"
            ]
          },
          "metadata": {
            "tags": [],
            "needs_background": "light"
          }
        }
      ]
    },
    {
      "cell_type": "code",
      "metadata": {
        "colab": {
          "base_uri": "https://localhost:8080/",
          "height": 349
        },
        "id": "9i9jKIqaSxBo",
        "outputId": "cf3f0f85-9541-462e-d537-315922831183"
      },
      "source": [
        "OUT027 = sales_df.loc[sales_df['Outlet_Identifier']=='OUT027', 'Item_Outlet_Sales'].values\n",
        "OUT013 = sales_df.loc[sales_df['Outlet_Identifier']=='OUT013', 'Item_Outlet_Sales'].values \n",
        "OUT046 = sales_df.loc[sales_df['Outlet_Identifier']=='OUT046', 'Item_Outlet_Sales'].values  \n",
        "OUT035 = sales_df.loc[sales_df['Outlet_Identifier']=='OUT035', 'Item_Outlet_Sales'].values   \n",
        "OUT049 = sales_df.loc[sales_df['Outlet_Identifier']=='OUT049', 'Item_Outlet_Sales'].values   \n",
        "OUT045 = sales_df.loc[sales_df['Outlet_Identifier']=='OUT045', 'Item_Outlet_Sales'].values   \n",
        "OUT018 = sales_df.loc[sales_df['Outlet_Identifier']=='OUT045', 'Item_Outlet_Sales'].values   \n",
        "OUT017 = sales_df.loc[sales_df['Outlet_Identifier']=='OUT017', 'Item_Outlet_Sales'].values   \n",
        "plt.boxplot([OUT027,OUT013,OUT046,OUT035,OUT049,OUT045,OUT018,OUT017],\n",
        "            labels=['OUT027','OUT013','OUT046','OUT035','OUT049','OUT045','OUT018','OUT017'])\n",
        "plt.xticks(rotation = 90);"
      ],
      "execution_count": 98,
      "outputs": [
        {
          "output_type": "stream",
          "text": [
            "/usr/local/lib/python3.7/dist-packages/numpy/core/_asarray.py:83: VisibleDeprecationWarning: Creating an ndarray from ragged nested sequences (which is a list-or-tuple of lists-or-tuples-or ndarrays with different lengths or shapes) is deprecated. If you meant to do this, you must specify 'dtype=object' when creating the ndarray\n",
            "  return array(a, dtype, copy=False, order=order)\n"
          ],
          "name": "stderr"
        },
        {
          "output_type": "display_data",
          "data": {
            "image/png": "[encoded data removed]",
            "text/plain": [
              "<Figure size 432x288 with 1 Axes>"
            ]
          },
          "metadata": {
            "tags": [],
            "needs_background": "light"
          }
        }
      ]
    },
    {
      "cell_type": "code",
      "metadata": {
        "colab": {
          "base_uri": "https://localhost:8080/",
          "height": 349
        },
        "id": "lKY5GKCQV0kz",
        "outputId": "3c0cdf9a-330b-4203-931f-ede5a9cfbee8"
      },
      "source": [
        "OUT010 = sales_df.loc[sales_df['Outlet_Identifier']=='OUT010', 'Item_Outlet_Sales'].values   \n",
        "OUT019 = sales_df.loc[sales_df['Outlet_Identifier']=='OUT019', 'Item_Outlet_Sales'].values  \n",
        "plt.boxplot([OUT010,OUT019],\n",
        "            labels = ['OUT010','OUT019'])\n",
        "plt.xticks(rotation = 90);"
      ],
      "execution_count": 44,
      "outputs": [
        {
          "output_type": "stream",
          "text": [
            "/usr/local/lib/python3.7/dist-packages/numpy/core/_asarray.py:83: VisibleDeprecationWarning: Creating an ndarray from ragged nested sequences (which is a list-or-tuple of lists-or-tuples-or ndarrays with different lengths or shapes) is deprecated. If you meant to do this, you must specify 'dtype=object' when creating the ndarray\n",
            "  return array(a, dtype, copy=False, order=order)\n"
          ],
          "name": "stderr"
        },
        {
          "output_type": "display_data",
          "data": {
            "image/png": "[encoded data removed]",
            "text/plain": [
              "<Figure size 432x288 with 1 Axes>"
            ]
          },
          "metadata": {
            "tags": [],
            "needs_background": "light"
          }
        }
      ]
    },
    {
      "cell_type": "code",
      "metadata": {
        "colab": {
          "base_uri": "https://localhost:8080/",
          "height": 584
        },
        "id": "oKVNHYUZqWBs",
        "outputId": "1c0f5514-8c47-44e5-c6b4-ee2ef4bbe4cd"
      },
      "source": [
        "fig, axes = plt.subplots(nrows = 1, ncols = 1, figsize = (14,8))\n",
        "boxplots = axes.boxplot([OUT027,OUT013,OUT046,OUT035,OUT049,OUT045,OUT018,OUT017,OUT010, OUT019],\n",
        "                        notch=True,\n",
        "                        vert = False,\n",
        "                        labels=['OUT027','OUT013','OUT046','OUT035','OUT049','OUT045','OUT018','OUT017','OUt010', 'OUT019'],\n",
        "                        widths=.8,\n",
        "                        patch_artist= True,\n",
        "                        medianprops = dict(linestyle='-', linewidth=3, color='Black'),\n",
        "                        boxprops= dict(linestyle='--', linewidth=2, color='Black', facecolor = 'blue', alpha = .7))\n",
        "boxplot1 = boxplots['boxes'][0]\n",
        "boxplot1.set_facecolor('red')\n",
        "boxplot2 = boxplots['boxes'][1]\n",
        "boxplot2.set_facecolor('blue')\n",
        "boxplot3 = boxplots['boxes'][2]\n",
        "boxplot3.set_facecolor('crimson')\n",
        "boxplot4 = boxplots['boxes'][3]\n",
        "boxplot4.set_facecolor('green')\n",
        "boxplot5 = boxplots['boxes'][4]\n",
        "boxplot5.set_facecolor('yellow')\n",
        "boxplot6 = boxplots['boxes'][6]\n",
        "boxplot6.set_facecolor('magenta')\n",
        "boxplot7 = boxplots['boxes'][7]\n",
        "boxplot7.set_facecolor('cyan')\n",
        "boxplot8 = boxplots['boxes'][8]\n",
        "boxplot8.set_facecolor('goldenrod')\n",
        "boxplot9 = boxplots['boxes'][9]\n",
        "boxplot9.set_facecolor('purple')\n",
        "plt.xlabel('Sales', fontsize = 18)\n",
        "plt.ylabel('Outlets', fontsize = 18)\n",
        "plt.title('Sales by Store', fontsize = 24);"
      ],
      "execution_count": 106,
      "outputs": [
        {
          "output_type": "stream",
          "text": [
            "/usr/local/lib/python3.7/dist-packages/numpy/core/_asarray.py:83: VisibleDeprecationWarning: Creating an ndarray from ragged nested sequences (which is a list-or-tuple of lists-or-tuples-or ndarrays with different lengths or shapes) is deprecated. If you meant to do this, you must specify 'dtype=object' when creating the ndarray\n",
            "  return array(a, dtype, copy=False, order=order)\n"
          ],
          "name": "stderr"
        },
        {
          "output_type": "display_data",
          "data": {
            "image/png": "[encoded data removed]",
            "text/plain": [
              "<Figure size 1008x576 with 1 Axes>"
            ]
          },
          "metadata": {
            "tags": [],
            "needs_background": "light"
          }
        }
      ]
    },
    {
      "cell_type": "code",
      "metadata": {
        "id": "MQkRTZA0yYxR"
      },
      "source": [
        ""
      ],
      "execution_count": null,
      "outputs": []
    }
  ]
}